{
 "cells": [
  {
   "cell_type": "code",
   "execution_count": 6,
   "id": "cd11b40c-fe4e-4f7b-a556-d31fd1fd4a3f",
   "metadata": {},
   "outputs": [],
   "source": [
    "import pandas as pd\n",
    "from vaderSentiment.vaderSentiment import SentimentIntensityAnalyzer"
   ]
  },
  {
   "cell_type": "code",
   "execution_count": 8,
   "id": "2d1a0fe3-be53-417f-b62d-d955fe0c33f5",
   "metadata": {},
   "outputs": [
    {
     "name": "stdout",
     "output_type": "stream",
     "text": [
      "         date                                               text  compound  \\\n",
      "0  2020-12-20  Same folks said daikon paste could treat a cyt...    0.4019   \n",
      "1  2020-12-13  While the world has been on the wrong side of ...   -0.1027   \n",
      "2  2020-12-12  #coronavirus #SputnikV #AstraZeneca #PfizerBio...    0.2500   \n",
      "3  2020-12-12  Facts are immutable, Senator, even when you're...    0.0000   \n",
      "4  2020-12-12  Explain to me again why we need a vaccine @Bor...    0.0000   \n",
      "\n",
      "  sentiment  \n",
      "0  positive  \n",
      "1   neutral  \n",
      "2  positive  \n",
      "3   neutral  \n",
      "4   neutral  \n"
     ]
    }
   ],
   "source": [
    "\n",
    "df = pd.read_csv(\"/Users/aashnaased/Downloads/vaccination_tweets.csv\")  \n",
    "\n",
    "\n",
    "df = df[['date', 'text']].copy()\n",
    "df['date'] = pd.to_datetime(df['date']).dt.date\n",
    "\n",
    "\n",
    "analyzer = SentimentIntensityAnalyzer()\n",
    "\n",
    "df['compound'] = df['text'].apply(lambda x: analyzer.polarity_scores(str(x))['compound'])\n",
    "\n",
    "def label_sentiment(score):\n",
    "    if score >= 0.2:\n",
    "        return 'positive'\n",
    "    elif score <= -0.2:\n",
    "        return 'negative'\n",
    "    else:\n",
    "        return 'neutral'\n",
    "\n",
    "df['sentiment'] = df['compound'].apply(label_sentiment)\n",
    "\n",
    "\n",
    "df.to_csv(\"Vader_tweet_sentiment_labeled.csv\", index=False)\n",
    "print(df.head())\n"
   ]
  },
  {
   "cell_type": "code",
   "execution_count": null,
   "id": "77da802f-df7a-4adb-8c8c-96f00b200dd3",
   "metadata": {},
   "outputs": [],
   "source": []
  }
 ],
 "metadata": {
  "kernelspec": {
   "display_name": "Python 3 (ipykernel)",
   "language": "python",
   "name": "python3"
  },
  "language_info": {
   "codemirror_mode": {
    "name": "ipython",
    "version": 3
   },
   "file_extension": ".py",
   "mimetype": "text/x-python",
   "name": "python",
   "nbconvert_exporter": "python",
   "pygments_lexer": "ipython3",
   "version": "3.13.2"
  }
 },
 "nbformat": 4,
 "nbformat_minor": 5
}
