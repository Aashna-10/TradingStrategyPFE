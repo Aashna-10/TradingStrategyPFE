{
 "cells": [
  {
   "cell_type": "code",
   "execution_count": 1,
   "id": "67e90472-fb34-470b-86b5-ee3b449ed925",
   "metadata": {},
   "outputs": [],
   "source": [
    "\n",
    "import yfinance as yf\n",
    "import pandas as pd\n",
    "import ta\n",
    "import matplotlib.pyplot as plt\n",
    "from sklearn.linear_model import LinearRegression\n",
    "import warnings"
   ]
  },
  {
   "cell_type": "code",
   "execution_count": 2,
   "id": "47a9f7e5-33e3-44fb-8350-064fa8b10568",
   "metadata": {},
   "outputs": [
    {
     "name": "stdout",
     "output_type": "stream",
     "text": [
      "YF.download() has changed argument auto_adjust default to True\n"
     ]
    },
    {
     "name": "stderr",
     "output_type": "stream",
     "text": [
      "[*********************100%***********************]  1 of 1 completed"
     ]
    },
    {
     "name": "stdout",
     "output_type": "stream",
     "text": [
      "Price          Close      High       Low      Open    Volume\n",
      "Ticker           PFE       PFE       PFE       PFE       PFE\n",
      "Date                                                        \n",
      "2010-01-04  9.683945  9.689060  9.330965  9.346311  54898644\n",
      "2010-01-05  9.545827  9.683950  9.489555  9.678834  45714931\n",
      "2010-01-06  9.515130  9.622559  9.469090  9.545824  43640975\n",
      "2010-01-07  9.479319  9.550938  9.443509  9.535591  41557112\n",
      "2010-01-08  9.556055  9.571402  9.474205  9.525362  32049716\n"
     ]
    },
    {
     "name": "stderr",
     "output_type": "stream",
     "text": [
      "\n"
     ]
    }
   ],
   "source": [
    "warnings.filterwarnings('ignore')\n",
    "pfe = yf.download(\"PFE\", start=\"2010-01-01\", end=\"2025-04-16\")\n",
    "print(pfe.head())\n",
    "\n",
    "pfe['momentum_5'] = pfe['Close'].pct_change(periods=5)\n",
    "pfe['momentum_20'] = pfe['Close'].pct_change(periods=20)\n",
    "pfe['volatility_20'] = pfe['Close'].pct_change().rolling(window=20).std()\n",
    "#print(type(pfe['Close']))\n",
    "\n",
    "pfe['volume_avg_20'] = pfe['Volume'].rolling(window=20).mean()\n",
    "pfe['volume_surprise'] = pfe['Volume'].squeeze() / pfe['volume_avg_20']\n",
    "#pfe['Volume'] = pfe['Volume'].squeeze()\n",
    "\n",
    "#print(type(pfe['Volume']))\n",
    "#print(type(pfe['volume_avg_20']))\n",
    "\n",
    "\n",
    "pfe['intraday_change'] = pfe['Close'] - pfe['Open']\n",
    "gains = pfe['intraday_change'].apply(lambda x: x if x > 0 else 0)\n",
    "losses = pfe['intraday_change'].apply(lambda x: -x if x < 0 else 0)\n",
    "avg_gain = gains.rolling(window=14).mean()\n",
    "avg_loss = losses.rolling(window=14).mean()\n",
    "pfe['imi'] = 100 * avg_gain / (avg_gain + avg_loss)\n",
    "\n",
    "\n",
    "pfe['rsi'] = ta.momentum.RSIIndicator(pfe['Close'].squeeze(), window=14).rsi()\n",
    "\n",
    "\n",
    "macd = ta.trend.MACD(pfe['Close'].squeeze())\n",
    "pfe['macd'] = macd.macd()\n",
    "pfe['macd_signal'] = macd.macd_signal()\n",
    "\n",
    "\n",
    "bollinger = ta.volatility.BollingerBands(pfe['Close'].squeeze())\n",
    "pfe['bollinger_mavg'] = bollinger.bollinger_mavg()\n",
    "pfe['bollinger_hband'] = bollinger.bollinger_hband()\n",
    "pfe['bollinger_lband'] = bollinger.bollinger_lband()\n",
    "\n",
    "pfe.dropna(inplace=True)"
   ]
  },
  {
   "cell_type": "code",
   "execution_count": null,
   "id": "3763a47b-9e41-489b-b4f8-fcbb8a2b37e2",
   "metadata": {},
   "outputs": [],
   "source": []
  },
  {
   "cell_type": "code",
   "execution_count": 3,
   "id": "7bd37e3e-a732-44e3-a1ca-78ab7b7d2696",
   "metadata": {},
   "outputs": [
    {
     "ename": "FileNotFoundError",
     "evalue": "[Errno 2] No such file or directory: 'fundamental_data.csv'",
     "output_type": "error",
     "traceback": [
      "\u001b[31m---------------------------------------------------------------------------\u001b[39m",
      "\u001b[31mFileNotFoundError\u001b[39m                         Traceback (most recent call last)",
      "\u001b[36mCell\u001b[39m\u001b[36m \u001b[39m\u001b[32mIn[3]\u001b[39m\u001b[32m, line 2\u001b[39m\n\u001b[32m      1\u001b[39m \u001b[38;5;66;03m# Step 2: Drop beta and merge cleanly\u001b[39;00m\n\u001b[32m----> \u001b[39m\u001b[32m2\u001b[39m fundamental_df = \u001b[43mpd\u001b[49m\u001b[43m.\u001b[49m\u001b[43mread_csv\u001b[49m\u001b[43m(\u001b[49m\u001b[33;43m\"\u001b[39;49m\u001b[33;43mfundamental_data.csv\u001b[39;49m\u001b[33;43m\"\u001b[39;49m\u001b[43m,\u001b[49m\u001b[43m \u001b[49m\u001b[43mindex_col\u001b[49m\u001b[43m=\u001b[49m\u001b[33;43m'\u001b[39;49m\u001b[33;43mDate\u001b[39;49m\u001b[33;43m'\u001b[39;49m\u001b[43m,\u001b[49m\u001b[43m \u001b[49m\u001b[43mparse_dates\u001b[49m\u001b[43m=\u001b[49m\u001b[38;5;28;43;01mTrue\u001b[39;49;00m\u001b[43m)\u001b[49m\n\u001b[32m      3\u001b[39m fundamental_df = fundamental_df.drop(columns=[\u001b[33m'\u001b[39m\u001b[33mbeta_\u001b[39m\u001b[33m'\u001b[39m])\n\u001b[32m      5\u001b[39m \u001b[38;5;66;03m# Step 3: Normalize column names (if MultiIndex)\u001b[39;00m\n",
      "\u001b[36mFile \u001b[39m\u001b[32m/Library/Frameworks/Python.framework/Versions/3.13/lib/python3.13/site-packages/pandas/io/parsers/readers.py:1026\u001b[39m, in \u001b[36mread_csv\u001b[39m\u001b[34m(filepath_or_buffer, sep, delimiter, header, names, index_col, usecols, dtype, engine, converters, true_values, false_values, skipinitialspace, skiprows, skipfooter, nrows, na_values, keep_default_na, na_filter, verbose, skip_blank_lines, parse_dates, infer_datetime_format, keep_date_col, date_parser, date_format, dayfirst, cache_dates, iterator, chunksize, compression, thousands, decimal, lineterminator, quotechar, quoting, doublequote, escapechar, comment, encoding, encoding_errors, dialect, on_bad_lines, delim_whitespace, low_memory, memory_map, float_precision, storage_options, dtype_backend)\u001b[39m\n\u001b[32m   1013\u001b[39m kwds_defaults = _refine_defaults_read(\n\u001b[32m   1014\u001b[39m     dialect,\n\u001b[32m   1015\u001b[39m     delimiter,\n\u001b[32m   (...)\u001b[39m\u001b[32m   1022\u001b[39m     dtype_backend=dtype_backend,\n\u001b[32m   1023\u001b[39m )\n\u001b[32m   1024\u001b[39m kwds.update(kwds_defaults)\n\u001b[32m-> \u001b[39m\u001b[32m1026\u001b[39m \u001b[38;5;28;01mreturn\u001b[39;00m \u001b[43m_read\u001b[49m\u001b[43m(\u001b[49m\u001b[43mfilepath_or_buffer\u001b[49m\u001b[43m,\u001b[49m\u001b[43m \u001b[49m\u001b[43mkwds\u001b[49m\u001b[43m)\u001b[49m\n",
      "\u001b[36mFile \u001b[39m\u001b[32m/Library/Frameworks/Python.framework/Versions/3.13/lib/python3.13/site-packages/pandas/io/parsers/readers.py:620\u001b[39m, in \u001b[36m_read\u001b[39m\u001b[34m(filepath_or_buffer, kwds)\u001b[39m\n\u001b[32m    617\u001b[39m _validate_names(kwds.get(\u001b[33m\"\u001b[39m\u001b[33mnames\u001b[39m\u001b[33m\"\u001b[39m, \u001b[38;5;28;01mNone\u001b[39;00m))\n\u001b[32m    619\u001b[39m \u001b[38;5;66;03m# Create the parser.\u001b[39;00m\n\u001b[32m--> \u001b[39m\u001b[32m620\u001b[39m parser = \u001b[43mTextFileReader\u001b[49m\u001b[43m(\u001b[49m\u001b[43mfilepath_or_buffer\u001b[49m\u001b[43m,\u001b[49m\u001b[43m \u001b[49m\u001b[43m*\u001b[49m\u001b[43m*\u001b[49m\u001b[43mkwds\u001b[49m\u001b[43m)\u001b[49m\n\u001b[32m    622\u001b[39m \u001b[38;5;28;01mif\u001b[39;00m chunksize \u001b[38;5;129;01mor\u001b[39;00m iterator:\n\u001b[32m    623\u001b[39m     \u001b[38;5;28;01mreturn\u001b[39;00m parser\n",
      "\u001b[36mFile \u001b[39m\u001b[32m/Library/Frameworks/Python.framework/Versions/3.13/lib/python3.13/site-packages/pandas/io/parsers/readers.py:1620\u001b[39m, in \u001b[36mTextFileReader.__init__\u001b[39m\u001b[34m(self, f, engine, **kwds)\u001b[39m\n\u001b[32m   1617\u001b[39m     \u001b[38;5;28mself\u001b[39m.options[\u001b[33m\"\u001b[39m\u001b[33mhas_index_names\u001b[39m\u001b[33m\"\u001b[39m] = kwds[\u001b[33m\"\u001b[39m\u001b[33mhas_index_names\u001b[39m\u001b[33m\"\u001b[39m]\n\u001b[32m   1619\u001b[39m \u001b[38;5;28mself\u001b[39m.handles: IOHandles | \u001b[38;5;28;01mNone\u001b[39;00m = \u001b[38;5;28;01mNone\u001b[39;00m\n\u001b[32m-> \u001b[39m\u001b[32m1620\u001b[39m \u001b[38;5;28mself\u001b[39m._engine = \u001b[38;5;28;43mself\u001b[39;49m\u001b[43m.\u001b[49m\u001b[43m_make_engine\u001b[49m\u001b[43m(\u001b[49m\u001b[43mf\u001b[49m\u001b[43m,\u001b[49m\u001b[43m \u001b[49m\u001b[38;5;28;43mself\u001b[39;49m\u001b[43m.\u001b[49m\u001b[43mengine\u001b[49m\u001b[43m)\u001b[49m\n",
      "\u001b[36mFile \u001b[39m\u001b[32m/Library/Frameworks/Python.framework/Versions/3.13/lib/python3.13/site-packages/pandas/io/parsers/readers.py:1880\u001b[39m, in \u001b[36mTextFileReader._make_engine\u001b[39m\u001b[34m(self, f, engine)\u001b[39m\n\u001b[32m   1878\u001b[39m     \u001b[38;5;28;01mif\u001b[39;00m \u001b[33m\"\u001b[39m\u001b[33mb\u001b[39m\u001b[33m\"\u001b[39m \u001b[38;5;129;01mnot\u001b[39;00m \u001b[38;5;129;01min\u001b[39;00m mode:\n\u001b[32m   1879\u001b[39m         mode += \u001b[33m\"\u001b[39m\u001b[33mb\u001b[39m\u001b[33m\"\u001b[39m\n\u001b[32m-> \u001b[39m\u001b[32m1880\u001b[39m \u001b[38;5;28mself\u001b[39m.handles = \u001b[43mget_handle\u001b[49m\u001b[43m(\u001b[49m\n\u001b[32m   1881\u001b[39m \u001b[43m    \u001b[49m\u001b[43mf\u001b[49m\u001b[43m,\u001b[49m\n\u001b[32m   1882\u001b[39m \u001b[43m    \u001b[49m\u001b[43mmode\u001b[49m\u001b[43m,\u001b[49m\n\u001b[32m   1883\u001b[39m \u001b[43m    \u001b[49m\u001b[43mencoding\u001b[49m\u001b[43m=\u001b[49m\u001b[38;5;28;43mself\u001b[39;49m\u001b[43m.\u001b[49m\u001b[43moptions\u001b[49m\u001b[43m.\u001b[49m\u001b[43mget\u001b[49m\u001b[43m(\u001b[49m\u001b[33;43m\"\u001b[39;49m\u001b[33;43mencoding\u001b[39;49m\u001b[33;43m\"\u001b[39;49m\u001b[43m,\u001b[49m\u001b[43m \u001b[49m\u001b[38;5;28;43;01mNone\u001b[39;49;00m\u001b[43m)\u001b[49m\u001b[43m,\u001b[49m\n\u001b[32m   1884\u001b[39m \u001b[43m    \u001b[49m\u001b[43mcompression\u001b[49m\u001b[43m=\u001b[49m\u001b[38;5;28;43mself\u001b[39;49m\u001b[43m.\u001b[49m\u001b[43moptions\u001b[49m\u001b[43m.\u001b[49m\u001b[43mget\u001b[49m\u001b[43m(\u001b[49m\u001b[33;43m\"\u001b[39;49m\u001b[33;43mcompression\u001b[39;49m\u001b[33;43m\"\u001b[39;49m\u001b[43m,\u001b[49m\u001b[43m \u001b[49m\u001b[38;5;28;43;01mNone\u001b[39;49;00m\u001b[43m)\u001b[49m\u001b[43m,\u001b[49m\n\u001b[32m   1885\u001b[39m \u001b[43m    \u001b[49m\u001b[43mmemory_map\u001b[49m\u001b[43m=\u001b[49m\u001b[38;5;28;43mself\u001b[39;49m\u001b[43m.\u001b[49m\u001b[43moptions\u001b[49m\u001b[43m.\u001b[49m\u001b[43mget\u001b[49m\u001b[43m(\u001b[49m\u001b[33;43m\"\u001b[39;49m\u001b[33;43mmemory_map\u001b[39;49m\u001b[33;43m\"\u001b[39;49m\u001b[43m,\u001b[49m\u001b[43m \u001b[49m\u001b[38;5;28;43;01mFalse\u001b[39;49;00m\u001b[43m)\u001b[49m\u001b[43m,\u001b[49m\n\u001b[32m   1886\u001b[39m \u001b[43m    \u001b[49m\u001b[43mis_text\u001b[49m\u001b[43m=\u001b[49m\u001b[43mis_text\u001b[49m\u001b[43m,\u001b[49m\n\u001b[32m   1887\u001b[39m \u001b[43m    \u001b[49m\u001b[43merrors\u001b[49m\u001b[43m=\u001b[49m\u001b[38;5;28;43mself\u001b[39;49m\u001b[43m.\u001b[49m\u001b[43moptions\u001b[49m\u001b[43m.\u001b[49m\u001b[43mget\u001b[49m\u001b[43m(\u001b[49m\u001b[33;43m\"\u001b[39;49m\u001b[33;43mencoding_errors\u001b[39;49m\u001b[33;43m\"\u001b[39;49m\u001b[43m,\u001b[49m\u001b[43m \u001b[49m\u001b[33;43m\"\u001b[39;49m\u001b[33;43mstrict\u001b[39;49m\u001b[33;43m\"\u001b[39;49m\u001b[43m)\u001b[49m\u001b[43m,\u001b[49m\n\u001b[32m   1888\u001b[39m \u001b[43m    \u001b[49m\u001b[43mstorage_options\u001b[49m\u001b[43m=\u001b[49m\u001b[38;5;28;43mself\u001b[39;49m\u001b[43m.\u001b[49m\u001b[43moptions\u001b[49m\u001b[43m.\u001b[49m\u001b[43mget\u001b[49m\u001b[43m(\u001b[49m\u001b[33;43m\"\u001b[39;49m\u001b[33;43mstorage_options\u001b[39;49m\u001b[33;43m\"\u001b[39;49m\u001b[43m,\u001b[49m\u001b[43m \u001b[49m\u001b[38;5;28;43;01mNone\u001b[39;49;00m\u001b[43m)\u001b[49m\u001b[43m,\u001b[49m\n\u001b[32m   1889\u001b[39m \u001b[43m\u001b[49m\u001b[43m)\u001b[49m\n\u001b[32m   1890\u001b[39m \u001b[38;5;28;01massert\u001b[39;00m \u001b[38;5;28mself\u001b[39m.handles \u001b[38;5;129;01mis\u001b[39;00m \u001b[38;5;129;01mnot\u001b[39;00m \u001b[38;5;28;01mNone\u001b[39;00m\n\u001b[32m   1891\u001b[39m f = \u001b[38;5;28mself\u001b[39m.handles.handle\n",
      "\u001b[36mFile \u001b[39m\u001b[32m/Library/Frameworks/Python.framework/Versions/3.13/lib/python3.13/site-packages/pandas/io/common.py:873\u001b[39m, in \u001b[36mget_handle\u001b[39m\u001b[34m(path_or_buf, mode, encoding, compression, memory_map, is_text, errors, storage_options)\u001b[39m\n\u001b[32m    868\u001b[39m \u001b[38;5;28;01melif\u001b[39;00m \u001b[38;5;28misinstance\u001b[39m(handle, \u001b[38;5;28mstr\u001b[39m):\n\u001b[32m    869\u001b[39m     \u001b[38;5;66;03m# Check whether the filename is to be opened in binary mode.\u001b[39;00m\n\u001b[32m    870\u001b[39m     \u001b[38;5;66;03m# Binary mode does not support 'encoding' and 'newline'.\u001b[39;00m\n\u001b[32m    871\u001b[39m     \u001b[38;5;28;01mif\u001b[39;00m ioargs.encoding \u001b[38;5;129;01mand\u001b[39;00m \u001b[33m\"\u001b[39m\u001b[33mb\u001b[39m\u001b[33m\"\u001b[39m \u001b[38;5;129;01mnot\u001b[39;00m \u001b[38;5;129;01min\u001b[39;00m ioargs.mode:\n\u001b[32m    872\u001b[39m         \u001b[38;5;66;03m# Encoding\u001b[39;00m\n\u001b[32m--> \u001b[39m\u001b[32m873\u001b[39m         handle = \u001b[38;5;28;43mopen\u001b[39;49m\u001b[43m(\u001b[49m\n\u001b[32m    874\u001b[39m \u001b[43m            \u001b[49m\u001b[43mhandle\u001b[49m\u001b[43m,\u001b[49m\n\u001b[32m    875\u001b[39m \u001b[43m            \u001b[49m\u001b[43mioargs\u001b[49m\u001b[43m.\u001b[49m\u001b[43mmode\u001b[49m\u001b[43m,\u001b[49m\n\u001b[32m    876\u001b[39m \u001b[43m            \u001b[49m\u001b[43mencoding\u001b[49m\u001b[43m=\u001b[49m\u001b[43mioargs\u001b[49m\u001b[43m.\u001b[49m\u001b[43mencoding\u001b[49m\u001b[43m,\u001b[49m\n\u001b[32m    877\u001b[39m \u001b[43m            \u001b[49m\u001b[43merrors\u001b[49m\u001b[43m=\u001b[49m\u001b[43merrors\u001b[49m\u001b[43m,\u001b[49m\n\u001b[32m    878\u001b[39m \u001b[43m            \u001b[49m\u001b[43mnewline\u001b[49m\u001b[43m=\u001b[49m\u001b[33;43m\"\u001b[39;49m\u001b[33;43m\"\u001b[39;49m\u001b[43m,\u001b[49m\n\u001b[32m    879\u001b[39m \u001b[43m        \u001b[49m\u001b[43m)\u001b[49m\n\u001b[32m    880\u001b[39m     \u001b[38;5;28;01melse\u001b[39;00m:\n\u001b[32m    881\u001b[39m         \u001b[38;5;66;03m# Binary mode\u001b[39;00m\n\u001b[32m    882\u001b[39m         handle = \u001b[38;5;28mopen\u001b[39m(handle, ioargs.mode)\n",
      "\u001b[31mFileNotFoundError\u001b[39m: [Errno 2] No such file or directory: 'fundamental_data.csv'"
     ]
    }
   ],
   "source": [
    "\n",
    "fundamental_df = pd.read_csv(\"fundamental_data.csv\", index_col='Date', parse_dates=True)\n",
    "fundamental_df = fundamental_df.drop(columns=['beta_'])\n",
    "\n",
    "\n",
    "if isinstance(pfe.columns, pd.MultiIndex):\n",
    "    pfe.columns = ['_'.join(map(str, col)).strip() for col in pfe.columns]\n",
    "\n",
    "\n",
    "pfe = pd.merge(pfe, fundamental_df, how='left', left_on='Date', right_index=True)\n",
    "\n",
    "\n",
    "\n",
    "\n",
    "print(pfe.head())\n"
   ]
  },
  {
   "cell_type": "code",
   "execution_count": 4,
   "id": "c110d4cb-65da-43fd-ad08-22337176c4fd",
   "metadata": {},
   "outputs": [
    {
     "name": "stderr",
     "output_type": "stream",
     "text": [
      "[*********************100%***********************]  1 of 1 completed\n",
      "[*********************100%***********************]  1 of 1 completed\n"
     ]
    }
   ],
   "source": [
    "market = yf.download(\"^GSPC\", start=pfe.index.min(), end=pfe.index.max())['Close']\n",
    "rf = yf.download(\"^TNX\", start=pfe.index.min(), end=pfe.index.max())['Close']  \n",
    "\n",
    "#Daily returns\n",
    "pfe_ret = pfe['Close_PFE'].pct_change()\n",
    "market_ret = market.pct_change()\n",
    "rf_daily = (rf / 100) / 252  \n",
    "\n",
    "returns = pd.concat([pfe_ret, market_ret, rf_daily], axis=1)\n",
    "returns.columns = ['Ri', 'Rm', 'Rf']\n",
    "returns = returns.dropna()\n",
    "\n",
    "\n",
    "X = (returns['Rm'] - returns['Rf']).values.reshape(-1, 1)\n",
    "y = (returns['Ri'] - returns['Rf']).values\n",
    "reg = LinearRegression().fit(X, y)\n",
    "beta = reg.coef_[0]\n",
    "\n",
    "\n",
    "returns['beta'] = beta\n",
    "returns['alpha'] = returns['Ri'] - (returns['Rf'] + beta * (returns['Rm'] - returns['Rf']))\n",
    "if isinstance(pfe.columns, pd.MultiIndex):\n",
    "    pfe.columns = ['_'.join(map(str, col)).strip() for col in pfe.columns]\n",
    "pfe = pfe.merge(returns[['alpha']], left_index=True, right_index=True, how='left')\n",
    "pfe = pfe.merge(returns[['beta']], left_index=True, right_index=True, how='left')"
   ]
  },
  {
   "cell_type": "code",
   "execution_count": 5,
   "id": "b1281300-ec6c-446e-8a70-8806ab1abb41",
   "metadata": {},
   "outputs": [],
   "source": [
    "pfe['alpha'] = pfe['alpha'].fillna(method='bfill')  \n",
    "pfe['beta'] = pfe['beta'].fillna(method='bfill')\n",
    "pfe['return_t-1'] = pfe['Close_PFE'].pct_change(1)\n",
    "pfe['return_t-5'] = pfe['Close_PFE'].pct_change(5)\n",
    "\n",
    "pfe['ma_5'] = pfe['Close_PFE'].rolling(5).mean()\n",
    "pfe['ma_20'] = pfe['Close_PFE'].rolling(20).mean()\n",
    "pfe['ma_diff'] = pfe['ma_5'] - pfe['ma_20']\n",
    "\n",
    "\n",
    "pfe['vol_5'] = pfe['Close_PFE'].rolling(5).std()\n"
   ]
  },
  {
   "cell_type": "code",
   "execution_count": null,
   "id": "b2624819-b5d6-4e00-86ac-98b5ed5e122b",
   "metadata": {},
   "outputs": [],
   "source": []
  },
  {
   "cell_type": "code",
   "execution_count": 6,
   "id": "c72f2a99-75bb-4565-906f-0d7564bb8286",
   "metadata": {},
   "outputs": [
    {
     "name": "stderr",
     "output_type": "stream",
     "text": [
      "[*********************100%***********************]  1 of 1 completed\n",
      "[*********************100%***********************]  1 of 1 completed\n",
      "[*********************100%***********************]  1 of 1 completed\n",
      "[*********************100%***********************]  1 of 1 completed\n",
      "[*********************100%***********************]  1 of 1 completed\n"
     ]
    }
   ],
   "source": [
    "jnj = yf.download(\"JNJ\", start=\"2010-01-01\", end=\"2025-04-16\").fillna(0).astype(int)\n",
    "mrk = yf.download(\"MRK\", start=\"2010-01-01\", end=\"2025-04-16\").fillna(0).astype(int)\n",
    "bmy = yf.download(\"BMY\", start=\"2010-01-01\", end=\"2025-04-16\").fillna(0).astype(int)\n",
    "abbv = yf.download(\"ABBV\", start=\"2010-01-01\", end=\"2025-04-16\").fillna(0).astype(int)\n",
    "amgn = yf.download(\"AMGN\", start=\"2010-01-01\", end=\"2025-04-16\").fillna(0).astype(int)\n",
    "\n",
    "jnj.columns = [f\"JNJ_{col}\" for col in jnj.columns.get_level_values(0)]\n",
    "mrk.columns = [f\"MRK_{col}\" for col in mrk.columns.get_level_values(0)]\n",
    "bmy.columns = [f\"BMY_{col}\" for col in bmy.columns.get_level_values(0)]\n",
    "abbv.columns = [f\"ABBV_{col}\" for col in abbv.columns.get_level_values(0)]\n",
    "amgn.columns = [f\"AMGN_{col}\" for col in amgn.columns.get_level_values(0)]\n",
    "\n",
    "if isinstance(pfe.columns, pd.MultiIndex):\n",
    "    pfe.columns = ['_'.join(map(str, col)).strip() for col in pfe.columns]\n",
    "\n",
    "\n",
    "pfe = pfe.join(jnj, how='left')\n",
    "pfe = pfe.join(mrk, how='left')\n",
    "pfe = pfe.join(bmy, how='left')\n",
    "pfe = pfe.join(abbv, how='left')\n",
    "pfe['ABBV_Close'] = pfe['ABBV_Close'].fillna(0)\n",
    "pfe['ABBV_High'] = pfe['ABBV_High'].fillna(0)\n",
    "pfe['ABBV_Low'] = pfe['ABBV_Low'].fillna(0)\n",
    "pfe['ABBV_Open'] = pfe['ABBV_Open'].fillna(0)\n",
    "pfe['ABBV_Volume'] = pfe['ABBV_Volume'].fillna(0)\n"
   ]
  },
  {
   "cell_type": "code",
   "execution_count": 7,
   "id": "dd19e5f4-1baf-43e3-ac2f-3b96ba65503c",
   "metadata": {},
   "outputs": [],
   "source": [
    "recall_flag_df = pd.read_csv(\"Recall_Flag_Table.csv\", parse_dates=['Date'], index_col='Date')\n",
    "recall_flag_df.index = recall_flag_df.index.normalize()\n",
    "if isinstance(pfe.columns, pd.MultiIndex):\n",
    "    pfe.columns = ['_'.join(map(str, col)).strip() for col in pfe.columns]\n",
    "\n",
    "pfe = pfe.join(recall_flag_df, how='left')\n",
    "\n",
    "pfe['recall_flag'] = pfe['recall_flag'].fillna(0).astype(int)"
   ]
  },
  {
   "cell_type": "code",
   "execution_count": 8,
   "id": "60ade8f3-443a-4847-a13c-93cc158d580a",
   "metadata": {},
   "outputs": [],
   "source": [
    "#MacroData\n",
    "cpi = pd.read_csv(\"CPIAUCSL.csv\", parse_dates=['observation_date'], index_col='observation_date')\n",
    "dgs10 = pd.read_csv(\"DGS10.csv\", parse_dates=['observation_date'], index_col='observation_date')\n",
    "inflation = pd.read_csv(\"ExpectedInflation.csv\", parse_dates=['observation_date'], index_col='observation_date')\n",
    "fedfunds = pd.read_csv(\"FEDFUNDS.csv\", parse_dates=['observation_date'], index_col='observation_date')\n",
    "m2 = pd.read_csv(\"M2SL.csv\", parse_dates=['observation_date'], index_col='observation_date')\n",
    "m1 = pd.read_csv(\"MPRIME.csv\", parse_dates=['observation_date'], index_col='observation_date')\n",
    "\n",
    "cpi.columns = ['CPI']\n",
    "dgs10.columns = ['10Y_Treasury_Yield']\n",
    "inflation.columns = ['Expected_Inflation']\n",
    "fedfunds.columns = ['Fed_Funds_Rate']\n",
    "m2.columns = ['M2_Money_Supply']\n",
    "m1.columns = ['M1_Money_Supply']\n",
    "\n",
    "macro_df = cpi.join([dgs10, inflation, fedfunds, m2, m1], how='outer')\n",
    "macro_df.index = macro_df.index.normalize()  \n",
    "\n",
    "macro_df = macro_df.ffill()\n",
    "if isinstance(pfe.columns, pd.MultiIndex):\n",
    "    pfe.columns = ['_'.join(map(str, col)).strip() for col in pfe.columns]\n",
    "\n",
    "pfe = pfe.join(macro_df, how='left')\n",
    "\n",
    "pfe.to_csv(\"pfe_with_macro.csv\")\n"
   ]
  },
  {
   "cell_type": "code",
   "execution_count": 9,
   "id": "00f3f8a8-197b-450e-8dd9-27aa1dcd88bd",
   "metadata": {},
   "outputs": [],
   "source": [
    "event_df = pd.read_csv(\"Corrected_Pfizer_Event_Timeline__2010_2029_.csv\", parse_dates=True, index_col='date')\n",
    "event_df.index = event_df.index.normalize()\n",
    "if isinstance(pfe.columns, pd.MultiIndex):\n",
    "    pfe.columns = ['_'.join(map(str, col)).strip() for col in pfe.columns]\n",
    "\n",
    "pfe = pfe.join(event_df, how='left')\n"
   ]
  },
  {
   "cell_type": "code",
   "execution_count": 10,
   "id": "3dd00489-cc50-4f81-ac05-04c027748983",
   "metadata": {},
   "outputs": [],
   "source": [
    "sentiment_df = pd.read_csv(\"news_data_full.csv\", parse_dates=['date'], index_col='date')\n",
    "sentiment_df.index = sentiment_df.index.normalize()\n",
    "pfe = pfe.merge(sentiment_df, how='left', left_index=True, right_index=True)\n",
    "pfe = pfe.rename(columns={'sentiment': 'news_sentiment'})\n"
   ]
  },
  {
   "cell_type": "code",
   "execution_count": 11,
   "id": "d0e965a2-162b-4321-b308-96cc35cecc3d",
   "metadata": {},
   "outputs": [],
   "source": [
    "sentiment_df = pd.read_csv(\"Complete_Sentiment_Table_with_Zeros.csv\", parse_dates=['date'], index_col='date')\n",
    "sentiment_df.index = sentiment_df.index.normalize()\n",
    "sentiment_df = sentiment_df.rename(columns={'compound': 'twitter_sentiment'})\n",
    "pfe = pfe.merge(sentiment_df, how='left', left_index=True, right_index=True)"
   ]
  },
  {
   "cell_type": "code",
   "execution_count": 12,
   "id": "401216a8-9b93-46e4-8a97-46b97da965ad",
   "metadata": {},
   "outputs": [],
   "source": [
    "pfe['target_return'] = pfe['Close_PFE'].shift(-1) / pfe['Close_PFE'] - 1"
   ]
  },
  {
   "cell_type": "code",
   "execution_count": 13,
   "id": "a8ce64ee-b40e-42c5-b283-be236e17f2f2",
   "metadata": {},
   "outputs": [],
   "source": [
    "pfe['target_return_lag1'] = pfe['target_return'].shift(1)\n",
    "pfe['target_return_lag2'] = pfe['target_return'].shift(2)\n",
    "pfe['target_return_lag3'] = pfe['target_return'].shift(3)\n",
    "pfe['target_roll_mean_5'] = pfe['target_return'].rolling(5).mean()\n",
    "pfe['target_roll_std_5'] = pfe['target_return'].rolling(5).std()\n",
    "features = ['return_t-1', 'return_t-5', 'ma_5', 'ma_20', 'ma_diff', 'vol_5', 'target_return_lag1','target_return_lag2','target_return_lag3','target_roll_mean_5','target_roll_std_5']\n",
    "pfe = pfe.dropna(subset=features)"
   ]
  },
  {
   "cell_type": "code",
   "execution_count": 14,
   "id": "51156482-e578-4989-bb92-24d05d34626b",
   "metadata": {},
   "outputs": [],
   "source": [
    "pfe.to_csv(\"pfe_with_macro.csv\")"
   ]
  },
  {
   "cell_type": "code",
   "execution_count": null,
   "id": "53d4f030-7e2a-4cf7-b8c2-fe2c8e65ca52",
   "metadata": {},
   "outputs": [],
   "source": []
  },
  {
   "cell_type": "code",
   "execution_count": null,
   "id": "4599ca70-117e-4853-8a2d-80e8ccf5c849",
   "metadata": {},
   "outputs": [],
   "source": []
  }
 ],
 "metadata": {
  "kernelspec": {
   "display_name": "Python 3 (ipykernel)",
   "language": "python",
   "name": "python3"
  },
  "language_info": {
   "codemirror_mode": {
    "name": "ipython",
    "version": 3
   },
   "file_extension": ".py",
   "mimetype": "text/x-python",
   "name": "python",
   "nbconvert_exporter": "python",
   "pygments_lexer": "ipython3",
   "version": "3.13.2"
  }
 },
 "nbformat": 4,
 "nbformat_minor": 5
}
