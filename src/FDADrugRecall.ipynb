{
 "cells": [
  {
   "cell_type": "code",
   "execution_count": 7,
   "id": "4f0d8ef5-1250-41ba-a68e-cae8994405d1",
   "metadata": {},
   "outputs": [],
   "source": [
    "import pandas as pd"
   ]
  },
  {
   "cell_type": "code",
   "execution_count": 11,
   "id": "dc21d61b-1e28-43ae-bab9-5071cdd4ebe1",
   "metadata": {},
   "outputs": [],
   "source": [
    "\n",
    "df = pd.read_csv('/Users/aashnaased/Desktop/TrexQuant_ML_Task/Data/fda_product_recalls.csv')\n",
    "\n",
    "\n",
    "pfizer_recalls = df[df['recalling_firm_name'].str.contains('Pfizer', case=False, na=False)]\n",
    "\n",
    "\n",
    "pfizer_recalls.to_csv(\"recalls_data.csv\", index=True)"
   ]
  },
  {
   "cell_type": "code",
   "execution_count": null,
   "id": "ad4f2dc0-bf5a-47d6-a5dd-7840a0fee623",
   "metadata": {},
   "outputs": [],
   "source": []
  }
 ],
 "metadata": {
  "kernelspec": {
   "display_name": "Python 3 (ipykernel)",
   "language": "python",
   "name": "python3"
  },
  "language_info": {
   "codemirror_mode": {
    "name": "ipython",
    "version": 3
   },
   "file_extension": ".py",
   "mimetype": "text/x-python",
   "name": "python",
   "nbconvert_exporter": "python",
   "pygments_lexer": "ipython3",
   "version": "3.13.2"
  }
 },
 "nbformat": 4,
 "nbformat_minor": 5
}
