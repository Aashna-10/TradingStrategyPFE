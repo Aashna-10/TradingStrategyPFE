{
 "cells": [
  {
   "cell_type": "code",
   "execution_count": 6,
   "id": "ffde70fa-4bdb-4d31-a138-4bb0c816cebb",
   "metadata": {},
   "outputs": [],
   "source": [
    "import pandas as pd\n",
    "from vaderSentiment.vaderSentiment import SentimentIntensityAnalyzer"
   ]
  },
  {
   "cell_type": "code",
   "execution_count": 7,
   "id": "a2e364a7-016f-48c5-acb0-3ac6bf36ed10",
   "metadata": {},
   "outputs": [
    {
     "name": "stdout",
     "output_type": "stream",
     "text": [
      "Exported to 'news_sentiment_with_score.csv'\n"
     ]
    }
   ],
   "source": [
    "\n",
    "df = pd.read_csv('news_dataset.csv')  \n",
    "\n",
    "analyzer = SentimentIntensityAnalyzer()\n",
    "\n",
    "def get_sentiment(text):\n",
    "    if pd.isna(text) or not isinstance(text, str):\n",
    "        return 'neutral', 0.0\n",
    "    scores = analyzer.polarity_scores(text)\n",
    "    compound = scores['compound']\n",
    "    if compound >= 0.2:\n",
    "        label = 'positive'\n",
    "    elif compound <= -0.2:\n",
    "        label = 'negative'\n",
    "    else:\n",
    "        label = 'neutral'\n",
    "    return label, compound\n",
    "\n",
    "df[['sentiment', 'sentiment_score']] = df['short_description'].apply(\n",
    "    lambda x: pd.Series(get_sentiment(x))\n",
    ")\n",
    "\n",
    "df_result = df[['date', 'sentiment', 'sentiment_score']]\n",
    "\n",
    "df_result.to_csv('news_sentiment_with_score.csv', index=False)\n",
    "print(\"Exported to 'news_sentiment_with_score.csv'\")\n"
   ]
  },
  {
   "cell_type": "code",
   "execution_count": null,
   "id": "95238c62-77ba-4b25-8948-e5ffab596e5b",
   "metadata": {},
   "outputs": [],
   "source": []
  }
 ],
 "metadata": {
  "kernelspec": {
   "display_name": "Python 3 (ipykernel)",
   "language": "python",
   "name": "python3"
  },
  "language_info": {
   "codemirror_mode": {
    "name": "ipython",
    "version": 3
   },
   "file_extension": ".py",
   "mimetype": "text/x-python",
   "name": "python",
   "nbconvert_exporter": "python",
   "pygments_lexer": "ipython3",
   "version": "3.13.2"
  }
 },
 "nbformat": 4,
 "nbformat_minor": 5
}
