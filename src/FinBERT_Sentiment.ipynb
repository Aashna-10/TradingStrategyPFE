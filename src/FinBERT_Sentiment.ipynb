{
 "cells": [
  {
   "cell_type": "code",
   "execution_count": 4,
   "id": "e2071fb0-0e6b-46d3-9667-d921672c260f",
   "metadata": {},
   "outputs": [],
   "source": [
    "\n",
    "import pandas as pd\n",
    "from transformers import AutoTokenizer, AutoModelForSequenceClassification\n",
    "from scipy.special import softmax\n",
    "import torch\n",
    "from tqdm import tqdm"
   ]
  },
  {
   "cell_type": "code",
   "execution_count": 5,
   "id": "8016ff1a-c6fa-46ba-ae7b-bdd7e7113345",
   "metadata": {},
   "outputs": [
    {
     "name": "stdout",
     "output_type": "stream",
     "text": [
      "         date                                               text  positive  \\\n",
      "0  2020-12-20  Same folks said daikon paste could treat a cyt...  0.999988   \n",
      "1  2020-12-13  While the world has been on the wrong side of ...  0.999205   \n",
      "2  2020-12-12  #coronavirus #SputnikV #AstraZeneca #PfizerBio...  0.999989   \n",
      "3  2020-12-12  Facts are immutable, Senator, even when you're...  0.999872   \n",
      "4  2020-12-12  Explain to me again why we need a vaccine @Bor...  0.999771   \n",
      "\n",
      "    neutral  negative sentiment_label  \n",
      "0  0.000002  0.000010        positive  \n",
      "1  0.000037  0.000758        positive  \n",
      "2  0.000009  0.000002        positive  \n",
      "3  0.000013  0.000115        positive  \n",
      "4  0.000028  0.000201        positive  \n"
     ]
    }
   ],
   "source": [
    "\n",
    "df = pd.read_csv(\"vaccination_tweets.csv\")  \n",
    "df = df[['date', 'text']].dropna().copy()\n",
    "df['date'] = pd.to_datetime(df['date']).dt.date\n",
    "\n",
    "\n",
    "tokenizer = AutoTokenizer.from_pretrained(\"yiyanghkust/finbert-tone\")\n",
    "model = AutoModelForSequenceClassification.from_pretrained(\"yiyanghkust/finbert-tone\")\n",
    "\n",
    "def analyze_sentiment(text):\n",
    "    inputs = tokenizer(text, return_tensors=\"pt\", truncation=True, max_length=512)\n",
    "    with torch.no_grad():\n",
    "        outputs = model(**inputs)\n",
    "    probs = softmax(outputs.logits.numpy()[0])\n",
    "    return {\n",
    "        'positive': probs[0],\n",
    "        'neutral': probs[1],\n",
    "        'negative': probs[2]\n",
    "    }\n",
    "\n",
    "sentiments = df['text'].apply(analyze_sentiment)\n",
    "\n",
    "\n",
    "sentiment_df = pd.DataFrame(sentiments.tolist())\n",
    "df = pd.concat([df, sentiment_df], axis=1)\n",
    "\n",
    "\n",
    "df['sentiment_label'] = df[['positive', 'neutral', 'negative']].idxmax(axis=1)\n",
    "\n",
    "\n",
    "df.to_csv(\"pfizer_tweet_sentiment_finbert.csv\", index=False)\n",
    "\n",
    "\n",
    "print(df.head())\n"
   ]
  },
  {
   "cell_type": "code",
   "execution_count": null,
   "id": "30e80044-997f-4827-9a44-400e3bdee174",
   "metadata": {},
   "outputs": [],
   "source": []
  }
 ],
 "metadata": {
  "kernelspec": {
   "display_name": "Python 3 (ipykernel)",
   "language": "python",
   "name": "python3"
  },
  "language_info": {
   "codemirror_mode": {
    "name": "ipython",
    "version": 3
   },
   "file_extension": ".py",
   "mimetype": "text/x-python",
   "name": "python",
   "nbconvert_exporter": "python",
   "pygments_lexer": "ipython3",
   "version": "3.13.2"
  }
 },
 "nbformat": 4,
 "nbformat_minor": 5
}
